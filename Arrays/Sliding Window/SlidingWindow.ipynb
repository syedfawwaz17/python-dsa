{
 "cells": [
  {
   "cell_type": "code",
   "execution_count": 5,
   "id": "413ae4ac",
   "metadata": {},
   "outputs": [
    {
     "name": "stdout",
     "output_type": "stream",
     "text": [
      "[1]\n",
      "[1, 8]\n",
      "[1, 8, 9]\n",
      "[8]\n",
      "[8, 9]\n",
      "[9]\n",
      "[[1], [1, 8], [1, 8, 9], [8], [8, 9], [9]]\n"
     ]
    }
   ],
   "source": [
    "#Print all sub arraays\n",
    "li = [1,8,9]\n",
    "ans=[]\n",
    "for i in range(len(li)):\n",
    "    for j in range(i,len(li)):\n",
    "        temp=[]\n",
    "        for k in range(i,j+1):\n",
    "            temp.append(li[k])\n",
    "        print(temp)\n",
    "        ans.append(temp)\n",
    "print(ans)"
   ]
  },
  {
   "cell_type": "code",
   "execution_count": 12,
   "id": "04b1aabf",
   "metadata": {},
   "outputs": [
    {
     "name": "stdout",
     "output_type": "stream",
     "text": [
      "['F', 'Fa', 'Faw', 'Faww', 'Fawwa', 'Fawwaz', 'a', 'aw', 'aww', 'awwa', 'awwaz', 'w', 'ww', 'wwa', 'wwaz', 'w', 'wa', 'waz', 'a', 'az', 'z']\n"
     ]
    }
   ],
   "source": [
    "#For strings\n",
    "s='Fawwaz'\n",
    "ans=[]\n",
    "for i in range(len(s)):\n",
    "    for j in range(i,len(s)):\n",
    "        temp=\"\"\n",
    "        for k in range(i,j+1):\n",
    "            temp+=s[k]\n",
    "        ans.append(temp)\n",
    "print(ans)"
   ]
  },
  {
   "cell_type": "code",
   "execution_count": 19,
   "id": "a733f67a",
   "metadata": {},
   "outputs": [
    {
     "name": "stdout",
     "output_type": "stream",
     "text": [
      "18\n"
     ]
    }
   ],
   "source": [
    "#Highest sum of sub array of length 3 \n",
    "#ip = [5,9,1,8,7]\n",
    "#Brute force \n",
    "ip=[5,9,1,8,7]\n",
    "k=3\n",
    "max_sum = 0\n",
    "for i in range(len(ip)):\n",
    "    for j in range(k-1,len(ip)):\n",
    "        temp=[]\n",
    "        sum = 0\n",
    "        for k in range(i,j+1):\n",
    "            sum+=ip[k]\n",
    "            temp.append(k)\n",
    "        if (len(temp)==3):\n",
    "            max_sum = max(sum,max_sum)\n",
    "print(max_sum)\n",
    "        \n",
    "        "
   ]
  },
  {
   "cell_type": "code",
   "execution_count": 27,
   "id": "a3db570c",
   "metadata": {},
   "outputs": [
    {
     "name": "stdout",
     "output_type": "stream",
     "text": [
      "18\n"
     ]
    }
   ],
   "source": [
    "#optimal using sliding window \n",
    "li = [5,9,1,8,7]\n",
    "k=3\n",
    "l=0\n",
    "temp=0\n",
    "ans=0\n",
    "for r in range(len(li)):\n",
    "    temp=temp+li[r]\n",
    "    if(r-l==k):\n",
    "        temp-=li[l]\n",
    "        l+=1\n",
    "    if(r-l+1==k):\n",
    "        ans=max(ans,temp)\n",
    "print(ans)\n",
    "\n"
   ]
  },
  {
   "cell_type": "code",
   "execution_count": null,
   "id": "5224713d",
   "metadata": {},
   "outputs": [],
   "source": [
    "#Substring of Size with 3 differnt nums brute force\n",
    "class Solution:\n",
    "    def countGoodSubstrings(self, s: str) -> int:\n",
    "        ans=0\n",
    "        for i in range(len(s)):\n",
    "            for j in range(i,len(s)):\n",
    "                temp=\"\"\n",
    "                for k in range(i,j+1):\n",
    "                    temp+=s[k]\n",
    "                if(len(temp)==3 and len(set(temp))==3):\n",
    "                    ans+=1\n",
    "        return ans\n",
    "    \n"
   ]
  },
  {
   "cell_type": "code",
   "execution_count": 3,
   "id": "4670ce08",
   "metadata": {},
   "outputs": [],
   "source": [
    "#Sliding window for substring of size 3 with 3 different nums optimal\n",
    "class Solution:\n",
    "    def countGoodSubstrings(self, s: str) -> int:\n",
    "        ans=0\n",
    "        l=0\n",
    "        k=3\n",
    "        li=[]\n",
    "        for r in range(len(s)):\n",
    "            li.append(s[r])\n",
    "            if(r-l==k):\n",
    "                li.pop(0)\n",
    "                l+=1\n",
    "            if(r-l+1==k and len(set(li))==k):\n",
    "                ans+=1\n",
    "        return ans\n",
    "                \n",
    "            "
   ]
  },
  {
   "cell_type": "code",
   "execution_count": null,
   "id": "cd987c23",
   "metadata": {},
   "outputs": [],
   "source": []
  }
 ],
 "metadata": {
  "kernelspec": {
   "display_name": ".conda",
   "language": "python",
   "name": "python3"
  },
  "language_info": {
   "codemirror_mode": {
    "name": "ipython",
    "version": 3
   },
   "file_extension": ".py",
   "mimetype": "text/x-python",
   "name": "python",
   "nbconvert_exporter": "python",
   "pygments_lexer": "ipython3",
   "version": "3.11.13"
  }
 },
 "nbformat": 4,
 "nbformat_minor": 5
}
